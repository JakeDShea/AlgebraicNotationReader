{
 "cells": [
  {
   "cell_type": "code",
   "execution_count": 1,
   "metadata": {},
   "outputs": [],
   "source": [
    "# Imports\n",
    "\n",
    "import pandas as pd\n",
    "import numpy as np\n",
    "from tensorflow import keras\n",
    "import sklearn # for model evaluation\n",
    "\n",
    "from keras.models import Sequential # for creating a linear stack of layers for our Neural Network\n",
    "from keras import Input # for instantiating a keras tensor\n",
    "from keras.layers import Dense # for creating regular densely-connected NN layers.\n",
    "\n",
    "from sklearn.model_selection import train_test_split # for splitting data into train and test samples\n",
    "from sklearn.metrics import classification_report # for model evaluation metrics"
   ]
  },
  {
   "cell_type": "code",
   "execution_count": null,
   "metadata": {},
   "outputs": [],
   "source": [
    "# Gets the data from local drive\n",
    "\n",
    "file_name = \"chess_games.csv\"\n",
    "chess_data = pd.read_csv(file_name)\n",
    "chess_data"
   ]
  },
  {
   "cell_type": "code",
   "execution_count": null,
   "metadata": {},
   "outputs": [],
   "source": [
    "# Cleans up the data by taking only the columns we want\n",
    "\n",
    "chess_clean = chess_data[['Event', 'Result','Termination','AN']]\n",
    "\n",
    "# Also cleans up rows to not include stalemates\n",
    "chess_clean = chess_clean[chess_clean['Result']!=\"1/2-1/2\"]\n",
    "\n",
    "# And non-classical games\n",
    "chess_clean = chess_clean[chess_clean['Event'] == \" Classical \"]\n",
    "\n",
    "# And finally only normal termination. No time-out wins\n",
    "chess_clean = chess_clean[chess_clean['Termination'] == \"Normal\"]\n",
    "chess_clean = chess_clean.reset_index()\n",
    "\n",
    "\n",
    "# Gets rid of weirdly annotated \"AN\" rows\n",
    "chess_clean = chess_clean[~chess_clean['AN'].str.contains(\"eval\")]\n",
    "\n",
    "# And only takes checkmates\n",
    "chess_clean = chess_clean[chess_clean['AN'].str.contains(\"#\")]\n",
    "\n",
    "chess_clean\n",
    "\n",
    "# Figure out what the key was for \"Classical\"\n",
    "#chess_clean['Event'].unique()\n",
    "\n",
    "# This prunes the dataset from 6 million records to 1 million"
   ]
  },
  {
   "cell_type": "code",
   "execution_count": null,
   "metadata": {},
   "outputs": [],
   "source": []
  }
 ],
 "metadata": {
  "kernelspec": {
   "display_name": "Python 3",
   "language": "python",
   "name": "python3"
  },
  "language_info": {
   "codemirror_mode": {
    "name": "ipython",
    "version": 3
   },
   "file_extension": ".py",
   "mimetype": "text/x-python",
   "name": "python",
   "nbconvert_exporter": "python",
   "pygments_lexer": "ipython3",
   "version": "3.7.3"
  }
 },
 "nbformat": 4,
 "nbformat_minor": 2
}
